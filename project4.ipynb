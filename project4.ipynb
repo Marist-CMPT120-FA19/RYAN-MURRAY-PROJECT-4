{
 "cells": [
  {
   "cell_type": "code",
   "execution_count": null,
   "metadata": {},
   "outputs": [],
   "source": [
    "from graphics import *\n",
    "\n",
    "def main():\n",
    "    win = GraphWin()\n",
    "    \n",
    "    box = Rectangle(Point(100, 170), Point(20, 20))\n",
    "    box.setOutline(\"black\")\n",
    "    box.setFill(\"white\")\n",
    "    box.draw(win)\n",
    "    \n",
    "    light = Circle(Point(59,50), 20)\n",
    "    light.setFill(\"red\")\n",
    "    light.draw(win)\n",
    "    \n",
    "    light = Circle(Point(59,95), 20)\n",
    "    light.setFill(\"yellow\")\n",
    "    light.draw(win)\n",
    "    \n",
    "    light = Circle(Point(59,140), 20)\n",
    "    light.setFill(\"green\")\n",
    "    light.draw(win)\n",
    "    \n",
    "        \n",
    "    win.getMouse()\n",
    "main()"
   ]
  },
  {
   "cell_type": "code",
   "execution_count": null,
   "metadata": {},
   "outputs": [],
   "source": []
  }
 ],
 "metadata": {
  "kernelspec": {
   "display_name": "Python 3",
   "language": "python",
   "name": "python3"
  },
  "language_info": {
   "codemirror_mode": {
    "name": "ipython",
    "version": 3
   },
   "file_extension": ".py",
   "mimetype": "text/x-python",
   "name": "python",
   "nbconvert_exporter": "python",
   "pygments_lexer": "ipython3",
   "version": "3.7.3"
  }
 },
 "nbformat": 4,
 "nbformat_minor": 2
}
